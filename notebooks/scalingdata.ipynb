version https://git-lfs.github.com/spec/v1
oid sha256:96244ebfc5329f109c15a01e2da9bc3ed466fcc29e81fdd4700fa48305cd75eb
size 31867
